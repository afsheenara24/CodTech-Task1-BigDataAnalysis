{
 "cells": [
  {
   "cell_type": "markdown",
   "metadata": {},
   "source": [
    "# Task 1 – Big Data Analysis using PySpark\n",
    "Dataset: NYC Taxi Trips ([Kaggle Link](https://www.kaggle.com/datasets/nyc-tlc/trip-record-data))\n",
    "\n",
    "This notebook performs big data processing using PySpark to derive insights from a large-scale taxi dataset."
   ]
  },
  {
   "cell_type": "code",
   "execution_count": null,
   "metadata": {},
   "outputs": [],
   "source": [
    "# Step 1: PySpark Setup\n",
    "from pyspark.sql import SparkSession\n",
    "spark = SparkSession.builder.appName('NYC Taxi Analysis').getOrCreate()"
   ]
  },
  {
   "cell_type": "code",
   "execution_count": null,
   "metadata": {},
   "outputs": [],
   "source": [
    "# Step 2: Load Dataset\n",
    "# Download a sample CSV from Kaggle manually (e.g., yellow_tripdata_2022-01.csv)\n",
    "df = spark.read.csv(\"sample_taxi_data.csv\", header=True, inferSchema=True)\n",
    "df.printSchema()\n",
    "df.show(5)"
   ]
  },
  {
   "cell_type": "code",
   "execution_count": null,
   "metadata": {},
   "outputs": [],
   "source": [
    "# Step 3: Basic Exploration\n",
    "df.select('passenger_count').groupBy('passenger_count').count().orderBy('count', ascending=False).show()\n",
    "df.select('payment_type').groupBy('payment_type').count().show()\n",
    "df.select('trip_distance').summary().show()"
   ]
  },
  {
   "cell_type": "code",
   "execution_count": null,
   "metadata": {},
   "outputs": [],
   "source": [
    "# Step 4: Time-based Insights\n",
    "from pyspark.sql.functions import hour, to_timestamp\n",
    "df = df.withColumn('pickup_hour', hour(to_timestamp('tpep_pickup_datetime')))\n",
    "df.groupBy('pickup_hour').count().orderBy('pickup_hour').show()"
   ]
  },
  {
   "cell_type": "markdown",
   "metadata": {},
   "source": [
    "### ✅ Summary:\n",
    "- We loaded a large dataset with PySpark\n",
    "- Performed grouping and aggregations\n",
    "- Extracted useful business insights\n",
    "\n",
    "You can now extend this by visualizing sampled data in Pandas/Matplotlib or saving filtered outputs."
   ]
  }
 ],
 "metadata": {
  "kernelspec": {
   "display_name": "Python 3",
   "language": "python",
   "name": "python3"
  },
  "language_info": {
   "name": "python"
  }
 },
 "nbformat": 4,
 "nbformat_minor": 4
}
